{
 "cells": [
  {
   "cell_type": "code",
   "execution_count": 3,
   "metadata": {
    "ExecuteTime": {
     "end_time": "2021-01-16T15:29:42.902868Z",
     "start_time": "2021-01-16T15:29:42.634824Z"
    }
   },
   "outputs": [],
   "source": [
    "import numpy as np\n",
    "import pandas as pd\n",
    "import re\n",
    "import datetime"
   ]
  },
  {
   "cell_type": "code",
   "execution_count": null,
   "metadata": {},
   "outputs": [],
   "source": [
    "file_path = 'desafio_murano.xlsx'"
   ]
  },
  {
   "cell_type": "code",
   "execution_count": 4,
   "metadata": {
    "ExecuteTime": {
     "end_time": "2021-01-16T15:30:01.766898Z",
     "start_time": "2021-01-16T15:30:01.750901Z"
    }
   },
   "outputs": [],
   "source": [
    "def inputs(df):\n",
    "    while True:   \n",
    "        dre = input(\"Preencha o seu DRE: \")\n",
    "        if not re.match(\"^[0-9]{9}$\" , dre):\n",
    "            print (\"Erro! Preencha o DRE corretamente (9 dígitos numéricos)\")\n",
    "        else:\n",
    "            dre = str(dre)\n",
    "            break\n",
    "\n",
    "    while True:\n",
    "        nome = input(\"Preencha o seu Nome Completo: \").title()\n",
    "        if not re.match(\"^[^0-9]+$\", nome):\n",
    "            print (\"Erro! Preencha seu nome sem números\")\n",
    "        else:\n",
    "            break\n",
    "    while True:   \n",
    "        curso = input(\"Preencha o seu Curso: \").title()\n",
    "        if not re.match(\"^[^0-9]+$\", curso):\n",
    "            print (\"Erro! Preencha seu curso sem números\")\n",
    "        else:\n",
    "            break\n",
    "\n",
    "    while True:   \n",
    "        genero = input(\"Preencha o seu Gênero (Masculino/Feminino): \")\n",
    "        genero = genero.capitalize()\n",
    "        if genero not in ['Feminino', 'Masculino']:\n",
    "            print (\"Erro! Tenha certeza que digitou corretamente\")\n",
    "        else:\n",
    "            break\n",
    "\n",
    "    while True:   \n",
    "        nasc = input(\"Preencha a sua Data de Nascimento (dd/mm/aaaa): \")\n",
    "        if not re.match(\"^(3[01]|[12][0-9]|0[1-9])/(1[0-2]|0[1-9])/[0-9]{4}$\" , nasc):\n",
    "            print (\"Erro! Preencha a data corretamente (dd/mm/aaaa)\")\n",
    "        else:\n",
    "            break\n",
    "\n",
    "    while True:   \n",
    "        altura = input(\"Preencha a sua Altura (em metros): \")\n",
    "        altura = float(str(altura).replace(',','.'))\n",
    "        if altura > 2.6 or altura < 0:\n",
    "            print (\"Erro! Tenha certeza que digitou corretamente (ex: 1,84)\")\n",
    "        else:\n",
    "            break\n",
    "\n",
    "    while True:   \n",
    "        peso = input(\"Preencha o seu Peso (em kilos): \")\n",
    "        peso = float(str(peso).replace(',','.'))\n",
    "        if peso > 350 or peso < 0:\n",
    "            print (\"Erro! Tenha certeza que digitou corretamente (ex: 84)\")\n",
    "        else:\n",
    "            break\n",
    "\n",
    "    while True:   \n",
    "        cra = input(\"Preencha o seu CR acumulado (0,0-10,0): \")\n",
    "        cra = float(str(cra).replace(',','.'))\n",
    "        if cra > 10 or cra < 0:\n",
    "            print (\"Erro! Tenha certeza que digitou corretamente (ex: 8,4)\")\n",
    "        else:\n",
    "            break\n",
    "\n",
    "    while True:   \n",
    "        creditos = input(\"Preencha a sua Quantidade de Créditos Obtidos: \")\n",
    "        try:\n",
    "            creditos = int(creditos)\n",
    "        except:\n",
    "            pass\n",
    "        if not isinstance(creditos, int) or creditos < 0:\n",
    "            print (\"Erro! Tenha certeza que digitou corretamente (ex: 390)\")\n",
    "        else:\n",
    "            break\n",
    "\n",
    "    while True:   \n",
    "        renda = input(\"Preencha a sua Renda Mensal : \")\n",
    "        try:\n",
    "            renda = int(renda)\n",
    "        except:\n",
    "            pass\n",
    "        if not isinstance(renda, int) or renda < 0:\n",
    "            print (\"Erro! Tenha certeza que digitou corretamente, sem pontos ou virgulas (ex: 3000)\")\n",
    "        else:\n",
    "            break\n",
    "    aux = pd.DataFrame([[dre, curso, nome, genero,\n",
    "                                      nasc, altura, peso, cra,\n",
    "                                      creditos, renda]], columns = df.columns )\n",
    "    return aux"
   ]
  },
  {
   "cell_type": "code",
   "execution_count": null,
   "metadata": {},
   "outputs": [],
   "source": [
    "def criarExcel(file_path):\n",
    "    df = pd.DataFrame(columns = 'dre curso nome genero data_de_nascimento altura peso cra creditos_obtidos renda'.split())\n",
    "    df.to_excel(file_path, index = False)\n",
    "    return df"
   ]
  },
  {
   "cell_type": "code",
   "execution_count": null,
   "metadata": {},
   "outputs": [],
   "source": [
    "def cadastrarAlunos(file_path):\n",
    "    try:\n",
    "        df = pd.read_excel(file_path)\n",
    "    except:\n",
    "        df = criarExcel(file_path)\n",
    "        \n",
    "    df = df.append(inputs(df))\n",
    "    df.reset_index(drop = True, inplace = True )\n",
    "    df.to_excel(file_path, index = False)\n",
    "    return df"
   ]
  },
  {
   "cell_type": "code",
   "execution_count": null,
   "metadata": {},
   "outputs": [],
   "source": [
    "def calculateAge(born):\n",
    "    today = date.today()\n",
    "    born = datetime.datetime.strptime(born, '%d/%m/%Y')\n",
    "    return today.year - born.year - ((today.month, today.day) < (born.month, born.day))"
   ]
  },
  {
   "cell_type": "code",
   "execution_count": null,
   "metadata": {},
   "outputs": [],
   "source": [
    "def statistic(numeric, func, **kwargs ):\n",
    "    df = pd.read_excel(file_path)\n",
    "    df2 = df.copy()\n",
    "    df2['idade'] = df.data_de_nascimento.apply(lambda x: calculateAge(x))\n",
    "    \n",
    "    keys = kwargs.keys()\n",
    "    bool_list = [df2[key] == kwargs.get(key) for key in keys]\n",
    "    \n",
    "    df_slice = pd.Series(np.ones((len(df2)), dtype=bool))\n",
    "    for i in bool_list:\n",
    "        df_slice = i & df_slice\n",
    "\n",
    "    return round(getattr(df2[df_slice][numeric], func)(),1)"
   ]
  },
  {
   "cell_type": "code",
   "execution_count": null,
   "metadata": {},
   "outputs": [],
   "source": [
    "def printStatistics():\n",
    "    \n",
    "    print('A média de idade dos alunos é: ', end='') \n",
    "    print(statistic('idade','mean'))\n",
    "    \n",
    "    qtd_mul = statistic('dre','count', genero='Feminino')\n",
    "    qtd_hom = statistic('dre','count', genero='Masculino')\n",
    "    print(f'Temos {qtd_mul} alunas e {qtd_hom} alunos', end ='\\n\\n')\n",
    "\n",
    "    print('A média de CRA dos homens que fazem engenharia é: ', end='') \n",
    "    print(statistic('cra','mean', genero='Masculino', curso='Engenharia'))\n",
    "\n",
    "    print('A média de CRA das mulheres que fazem engenharia é: ', end = '') \n",
    "    print(statistic('cra','mean', genero='Feminino', curso='Engenharia'), end ='\\n\\n')\n",
    "\n",
    "    print('A média de CRA das homens que fazem medicina é: ', end ='') \n",
    "    print(statistic('cra','mean', genero='Masculino', curso='Medicina'))\n",
    "    \n",
    "    print('A média de CRA das mulheres que fazem medicina é: ', end ='') \n",
    "    print(statistic('cra','mean', genero='Feminino', curso='Medicina'), end ='\\n\\n')\n",
    "\n",
    "    print('A média de renda da medicina é: ', end ='') \n",
    "    print(statistic('renda','mean', curso='Medicina'), end = ', ')\n",
    "    print('com desvio padrão de', end =' ')\n",
    "    print(statistic('renda','std', curso='Medicina'))\n",
    "\n",
    "    print('A média de renda da engenharia é: ', end ='') \n",
    "    print(statistic('renda','mean', curso='Engenharia'), end = ', ')\n",
    "    print('com desvio padrão de', end =' ')\n",
    "    print(statistic('renda','std', curso='Engenharia'))"
   ]
  }
 ],
 "metadata": {
  "kernelspec": {
   "display_name": "Python 3",
   "language": "python",
   "name": "python3"
  },
  "language_info": {
   "codemirror_mode": {
    "name": "ipython",
    "version": 3
   },
   "file_extension": ".py",
   "mimetype": "text/x-python",
   "name": "python",
   "nbconvert_exporter": "python",
   "pygments_lexer": "ipython3",
   "version": "3.7.9"
  },
  "toc": {
   "base_numbering": 1,
   "nav_menu": {},
   "number_sections": true,
   "sideBar": true,
   "skip_h1_title": false,
   "title_cell": "Table of Contents",
   "title_sidebar": "Contents",
   "toc_cell": false,
   "toc_position": {},
   "toc_section_display": true,
   "toc_window_display": false
  },
  "varInspector": {
   "cols": {
    "lenName": 16,
    "lenType": 16,
    "lenVar": 40
   },
   "kernels_config": {
    "python": {
     "delete_cmd_postfix": "",
     "delete_cmd_prefix": "del ",
     "library": "var_list.py",
     "varRefreshCmd": "print(var_dic_list())"
    },
    "r": {
     "delete_cmd_postfix": ") ",
     "delete_cmd_prefix": "rm(",
     "library": "var_list.r",
     "varRefreshCmd": "cat(var_dic_list()) "
    }
   },
   "types_to_exclude": [
    "module",
    "function",
    "builtin_function_or_method",
    "instance",
    "_Feature"
   ],
   "window_display": false
  }
 },
 "nbformat": 4,
 "nbformat_minor": 4
}
