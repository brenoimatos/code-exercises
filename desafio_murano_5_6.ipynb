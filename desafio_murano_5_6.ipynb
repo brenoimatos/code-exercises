{
 "cells": [
  {
   "cell_type": "code",
   "execution_count": 5,
   "metadata": {
    "ExecuteTime": {
     "end_time": "2021-01-17T23:23:09.189885Z",
     "start_time": "2021-01-17T23:23:09.185871Z"
    }
   },
   "outputs": [],
   "source": [
    "import random"
   ]
  },
  {
   "cell_type": "markdown",
   "metadata": {},
   "source": [
    "## 5.1 Implementação do Merge Sort"
   ]
  },
  {
   "cell_type": "code",
   "execution_count": 21,
   "metadata": {
    "ExecuteTime": {
     "end_time": "2021-01-17T23:26:43.388663Z",
     "start_time": "2021-01-17T23:26:43.381665Z"
    }
   },
   "outputs": [],
   "source": [
    "def mergeSort(array):\n",
    "    if len(array)>1:\n",
    "        mid = len(array)//2\n",
    "        left_arr = array[:mid]\n",
    "        right_arr = array[mid:]\n",
    "        \n",
    "        i = j = k = 0\n",
    "        \n",
    "        mergeSort(left_arr)\n",
    "        mergeSort(right_arr)\n",
    "        \n",
    "        while i < len(left_arr) and j < len(right_arr):            \n",
    "            if left_arr[i] < right_arr[j]:\n",
    "                array[k] = left_arr[i]\n",
    "                i += 1\n",
    "      \n",
    "            else:\n",
    "                array[k] = right_arr[j]              \n",
    "                j += 1\n",
    "            k +=1\n",
    "            \n",
    "        while i < len(left_arr):\n",
    "            array[k] = left_arr[i]\n",
    "            i += 1\n",
    "            k += 1\n",
    "                \n",
    "        while j < len(right_arr):\n",
    "            array[k] = right_arr[j]\n",
    "            j += 1\n",
    "            k += 1\n",
    "\n",
    "    return array"
   ]
  },
  {
   "cell_type": "code",
   "execution_count": 22,
   "metadata": {
    "ExecuteTime": {
     "end_time": "2021-01-17T23:26:45.307149Z",
     "start_time": "2021-01-17T23:26:45.299149Z"
    }
   },
   "outputs": [
    {
     "name": "stdout",
     "output_type": "stream",
     "text": [
      "array desordenado: [99, 177, 100, 121, 147, 197, 111, 92, 11, 168, 123, 135, 122, 192, 180, 148, 47, 116, 21, 36, 161, 72, 153, 139, 107, 65, 97, 70, 24, 77, 130, 39, 63, 115, 118, 191, 167, 55, 160, 52, 189, 12, 120, 154, 84, 128, 162, 163, 74, 196, 102, 113, 59, 156, 144, 48, 137, 27, 98, 103, 14, 94, 101, 169, 124, 166, 87, 126, 71, 53, 138, 78, 145, 34, 37, 133, 20, 86, 89, 17, 25, 46, 16, 141, 93, 15, 38, 75, 164, 31, 30, 182, 104, 49, 50, 73, 33, 157, 194, 96]\n",
      "\n",
      "\n"
     ]
    },
    {
     "data": {
      "text/plain": [
       "[11,\n",
       " 12,\n",
       " 14,\n",
       " 15,\n",
       " 16,\n",
       " 17,\n",
       " 20,\n",
       " 21,\n",
       " 24,\n",
       " 25,\n",
       " 27,\n",
       " 30,\n",
       " 31,\n",
       " 33,\n",
       " 34,\n",
       " 36,\n",
       " 37,\n",
       " 38,\n",
       " 39,\n",
       " 46,\n",
       " 47,\n",
       " 48,\n",
       " 49,\n",
       " 50,\n",
       " 52,\n",
       " 53,\n",
       " 55,\n",
       " 59,\n",
       " 63,\n",
       " 65,\n",
       " 70,\n",
       " 71,\n",
       " 72,\n",
       " 73,\n",
       " 74,\n",
       " 75,\n",
       " 77,\n",
       " 78,\n",
       " 84,\n",
       " 86,\n",
       " 87,\n",
       " 89,\n",
       " 92,\n",
       " 93,\n",
       " 94,\n",
       " 96,\n",
       " 97,\n",
       " 98,\n",
       " 99,\n",
       " 100,\n",
       " 101,\n",
       " 102,\n",
       " 103,\n",
       " 104,\n",
       " 107,\n",
       " 111,\n",
       " 113,\n",
       " 115,\n",
       " 116,\n",
       " 118,\n",
       " 120,\n",
       " 121,\n",
       " 122,\n",
       " 123,\n",
       " 124,\n",
       " 126,\n",
       " 128,\n",
       " 130,\n",
       " 133,\n",
       " 135,\n",
       " 137,\n",
       " 138,\n",
       " 139,\n",
       " 141,\n",
       " 144,\n",
       " 145,\n",
       " 147,\n",
       " 148,\n",
       " 153,\n",
       " 154,\n",
       " 156,\n",
       " 157,\n",
       " 160,\n",
       " 161,\n",
       " 162,\n",
       " 163,\n",
       " 164,\n",
       " 166,\n",
       " 167,\n",
       " 168,\n",
       " 169,\n",
       " 177,\n",
       " 180,\n",
       " 182,\n",
       " 189,\n",
       " 191,\n",
       " 192,\n",
       " 194,\n",
       " 196,\n",
       " 197]"
      ]
     },
     "execution_count": 22,
     "metadata": {},
     "output_type": "execute_result"
    }
   ],
   "source": [
    "array = random.sample(range(10, 200), 100)\n",
    "print(f'array desordenado: {array}', end = '\\n\\n\\n')\n",
    " \n",
    "mergeSort(array)"
   ]
  },
  {
   "cell_type": "markdown",
   "metadata": {},
   "source": [
    "## 5.2 Implementação do Bubble Sort"
   ]
  },
  {
   "cell_type": "code",
   "execution_count": 23,
   "metadata": {
    "ExecuteTime": {
     "end_time": "2021-01-17T23:27:02.975008Z",
     "start_time": "2021-01-17T23:27:02.970008Z"
    }
   },
   "outputs": [],
   "source": [
    "def bubbleSort(array):\n",
    "    for j in range(len(array)-1):\n",
    "        for i in range(len(array) -1 -j):\n",
    "            if array[i] > array[i+1]:\n",
    "                array[i], array[i+1] = array[i+1], array[i]\n",
    "    print(f'array ordenado: {array}')"
   ]
  },
  {
   "cell_type": "code",
   "execution_count": 24,
   "metadata": {
    "ExecuteTime": {
     "end_time": "2021-01-17T23:27:03.662081Z",
     "start_time": "2021-01-17T23:27:03.656083Z"
    }
   },
   "outputs": [
    {
     "name": "stdout",
     "output_type": "stream",
     "text": [
      "array desordenado: [164, 147, 111, 72, 182, 148, 104, 41, 178, 189, 89, 78, 36, 88, 61, 25, 86, 116, 73, 117, 159, 19, 11, 128, 59, 77, 198, 170, 71, 165, 103, 98, 60, 129, 194, 10, 23, 191, 15, 85, 114, 68, 166, 35, 22, 64, 171, 21, 139, 93, 183, 66, 54, 155, 152, 30, 172, 109, 43, 56, 69, 136, 97, 110, 177, 149, 91, 181, 119, 151, 140, 87, 121, 190, 13, 179, 120, 162, 125, 49, 62, 107, 143, 65, 127, 17, 122, 96, 158, 150, 51, 169, 124, 188, 24, 131, 45, 81, 74, 167]\n",
      "\n",
      "\n",
      "array ordenado: [10, 11, 13, 15, 17, 19, 21, 22, 23, 24, 25, 30, 35, 36, 41, 43, 45, 49, 51, 54, 56, 59, 60, 61, 62, 64, 65, 66, 68, 69, 71, 72, 73, 74, 77, 78, 81, 85, 86, 87, 88, 89, 91, 93, 96, 97, 98, 103, 104, 107, 109, 110, 111, 114, 116, 117, 119, 120, 121, 122, 124, 125, 127, 128, 129, 131, 136, 139, 140, 143, 147, 148, 149, 150, 151, 152, 155, 158, 159, 162, 164, 165, 166, 167, 169, 170, 171, 172, 177, 178, 179, 181, 182, 183, 188, 189, 190, 191, 194, 198]\n"
     ]
    }
   ],
   "source": [
    "array = random.sample(range(10, 200), 100)\n",
    "print(f'array desordenado: {array}', end = '\\n\\n\\n')\n",
    "bubbleSort(array)    "
   ]
  },
  {
   "cell_type": "markdown",
   "metadata": {},
   "source": [
    "## 6. Calculadora de Aportes Mensais"
   ]
  },
  {
   "cell_type": "code",
   "execution_count": 25,
   "metadata": {
    "ExecuteTime": {
     "end_time": "2021-01-17T23:27:10.673462Z",
     "start_time": "2021-01-17T23:27:10.668416Z"
    }
   },
   "outputs": [
    {
     "data": {
      "text/plain": [
       "499.63821496570415"
      ]
     },
     "execution_count": 25,
     "metadata": {},
     "output_type": "execute_result"
    }
   ],
   "source": [
    "def aporteCalculator(idade_atual, idade_futura, valor_futuro, juros):\n",
    "    n = (idade_futura - idade_atual) * 12\n",
    "    aporte = (valor_futuro * juros) / (((1 + juros)**n - 1) * (1 + juros))\n",
    "    return aporte\n",
    "\n",
    "aporteCalculator(25, 65, 1_000_000, 0.005)"
   ]
  }
 ],
 "metadata": {
  "kernelspec": {
   "display_name": "Python 3",
   "language": "python",
   "name": "python3"
  },
  "language_info": {
   "codemirror_mode": {
    "name": "ipython",
    "version": 3
   },
   "file_extension": ".py",
   "mimetype": "text/x-python",
   "name": "python",
   "nbconvert_exporter": "python",
   "pygments_lexer": "ipython3",
   "version": "3.7.9"
  },
  "toc": {
   "base_numbering": 1,
   "nav_menu": {},
   "number_sections": false,
   "sideBar": true,
   "skip_h1_title": false,
   "title_cell": "Table of Contents",
   "title_sidebar": "Contents",
   "toc_cell": false,
   "toc_position": {
    "height": "calc(100% - 180px)",
    "left": "10px",
    "top": "150px",
    "width": "165px"
   },
   "toc_section_display": true,
   "toc_window_display": false
  },
  "varInspector": {
   "cols": {
    "lenName": 16,
    "lenType": 16,
    "lenVar": 40
   },
   "kernels_config": {
    "python": {
     "delete_cmd_postfix": "",
     "delete_cmd_prefix": "del ",
     "library": "var_list.py",
     "varRefreshCmd": "print(var_dic_list())"
    },
    "r": {
     "delete_cmd_postfix": ") ",
     "delete_cmd_prefix": "rm(",
     "library": "var_list.r",
     "varRefreshCmd": "cat(var_dic_list()) "
    }
   },
   "types_to_exclude": [
    "module",
    "function",
    "builtin_function_or_method",
    "instance",
    "_Feature"
   ],
   "window_display": false
  }
 },
 "nbformat": 4,
 "nbformat_minor": 4
}
