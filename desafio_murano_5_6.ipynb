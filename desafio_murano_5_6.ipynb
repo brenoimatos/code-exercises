{
 "cells": [
  {
   "cell_type": "code",
   "execution_count": null,
   "metadata": {},
   "outputs": [],
   "source": [
    "def mergeSort(array):\n",
    "    if len(array)>1:\n",
    "        mid = len(array)//2\n",
    "        left_arr = array[:mid]\n",
    "        right_arr = array[mid:]\n",
    "        print (left_arr)\n",
    "        print (right_arr)\n",
    "        i = j = k = 0\n",
    "        \n",
    "        mergeSort(left_arr)\n",
    "        mergeSort(right_arr)\n",
    "        \n",
    "        while i < len(left_arr) and j < len(right_arr):\n",
    "            print (f'i: {i}, j: {j}, k: {k}')\n",
    "            print (f'left_arr: {left_arr}')\n",
    "            print (f'right_arr: {right_arr}')\n",
    "            \n",
    "            if left_arr[i] < right_arr[j]:\n",
    "                array[k] = left_arr[i]\n",
    "                i += 1\n",
    "                print (f'array1: {array}')\n",
    "            \n",
    "            \n",
    "            else:\n",
    "                array[k] = right_arr[j]\n",
    "                \n",
    "                print (f'array2: {array}')\n",
    "                \n",
    "                j += 1\n",
    "            k +=1\n",
    "            \n",
    "        while i < len(left_arr):\n",
    "            print (f'i: {i}, j: {j}, k: {k}')\n",
    "            array[k] = left_arr[i]\n",
    "            i += 1\n",
    "            k += 1\n",
    "            print (f'array3: {array}')\n",
    "                \n",
    "        while j < len(right_arr):\n",
    "            print (f'i: {i}, j: {j}, k: {k}')\n",
    "            array[k] = right_arr[j]\n",
    "            j += 1\n",
    "            k += 1\n",
    "            print (f'array4: {array}')\n",
    "\n",
    "                \n",
    "    return array"
   ]
  },
  {
   "cell_type": "code",
   "execution_count": null,
   "metadata": {},
   "outputs": [],
   "source": [
    "array = [3,2,4,7,8,9,10,1,5]\n",
    "\n",
    "mergeSort(array)"
   ]
  },
  {
   "cell_type": "code",
   "execution_count": null,
   "metadata": {},
   "outputs": [],
   "source": [
    "def aporteCalculator(idade, idade_futura, valor_final, juros):\n",
    "    n = (idade_futura - idade) * 12\n",
    "    aporte = (valor_final * juros) / (((1 + juros)**n - 1) * (1 + juros))\n",
    "    return aporte\n",
    "\n",
    "aporteCalculator(25, 65, 1_000_000, 0.005)"
   ]
  },
  {
   "cell_type": "code",
   "execution_count": null,
   "metadata": {},
   "outputs": [],
   "source": []
  }
 ],
 "metadata": {
  "kernelspec": {
   "display_name": "Python 3",
   "language": "python",
   "name": "python3"
  },
  "language_info": {
   "codemirror_mode": {
    "name": "ipython",
    "version": 3
   },
   "file_extension": ".py",
   "mimetype": "text/x-python",
   "name": "python",
   "nbconvert_exporter": "python",
   "pygments_lexer": "ipython3",
   "version": "3.7.9"
  },
  "toc": {
   "base_numbering": 1,
   "nav_menu": {},
   "number_sections": true,
   "sideBar": true,
   "skip_h1_title": false,
   "title_cell": "Table of Contents",
   "title_sidebar": "Contents",
   "toc_cell": false,
   "toc_position": {},
   "toc_section_display": true,
   "toc_window_display": false
  },
  "varInspector": {
   "cols": {
    "lenName": 16,
    "lenType": 16,
    "lenVar": 40
   },
   "kernels_config": {
    "python": {
     "delete_cmd_postfix": "",
     "delete_cmd_prefix": "del ",
     "library": "var_list.py",
     "varRefreshCmd": "print(var_dic_list())"
    },
    "r": {
     "delete_cmd_postfix": ") ",
     "delete_cmd_prefix": "rm(",
     "library": "var_list.r",
     "varRefreshCmd": "cat(var_dic_list()) "
    }
   },
   "types_to_exclude": [
    "module",
    "function",
    "builtin_function_or_method",
    "instance",
    "_Feature"
   ],
   "window_display": false
  }
 },
 "nbformat": 4,
 "nbformat_minor": 4
}
