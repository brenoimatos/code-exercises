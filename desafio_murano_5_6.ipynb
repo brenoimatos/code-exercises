{
 "cells": [
  {
   "cell_type": "code",
   "execution_count": null,
   "metadata": {},
   "outputs": [],
   "source": [
    "import random"
   ]
  },
  {
   "cell_type": "markdown",
   "metadata": {},
   "source": [
    "## 5.1 Implementação do Merge Sort"
   ]
  },
  {
   "cell_type": "code",
   "execution_count": 37,
   "metadata": {
    "ExecuteTime": {
     "end_time": "2021-01-16T20:10:06.801957Z",
     "start_time": "2021-01-16T20:10:06.791959Z"
    }
   },
   "outputs": [],
   "source": [
    "def mergeSort(array):\n",
    "    if len(array)>1:\n",
    "        mid = len(array)//2\n",
    "        left_arr = array[:mid]\n",
    "        right_arr = array[mid:]\n",
    "        print (f'left_arr1:{left_arr}')\n",
    "        print (f'right_arr1:{right_arr}')\n",
    "        i = j = k = 0\n",
    "        \n",
    "        mergeSort(left_arr)\n",
    "        mergeSort(right_arr)\n",
    "        \n",
    "        while i < len(left_arr) and j < len(right_arr):\n",
    "            print (f'while 1 -> i: {i}, j: {j}, k: {k}')\n",
    "            print (f'left_arr2: {left_arr}')\n",
    "            print (f'right_arr2: {right_arr}')\n",
    "            \n",
    "            if left_arr[i] < right_arr[j]:\n",
    "                array[k] = left_arr[i]\n",
    "                i += 1\n",
    "                print (f'array1: {array}')\n",
    "            \n",
    "            \n",
    "            else:\n",
    "                array[k] = right_arr[j]\n",
    "                \n",
    "                print (f'array2: {array}')\n",
    "                \n",
    "                j += 1\n",
    "            k +=1\n",
    "            \n",
    "        while i < len(left_arr):\n",
    "            print (f'while 2 -> i: {i}, j: {j}, k: {k}')\n",
    "            array[k] = left_arr[i]\n",
    "            i += 1\n",
    "            k += 1\n",
    "            print (f'array3: {array}')\n",
    "                \n",
    "        while j < len(right_arr):\n",
    "            print (f'while 3 -> i: {i}, j: {j}, k: {k}')\n",
    "            array[k] = right_arr[j]\n",
    "            j += 1\n",
    "            k += 1\n",
    "            print (f'array4: {array}')   \n",
    "    return array"
   ]
  },
  {
   "cell_type": "code",
   "execution_count": 38,
   "metadata": {
    "ExecuteTime": {
     "end_time": "2021-01-16T20:10:07.325899Z",
     "start_time": "2021-01-16T20:10:07.315964Z"
    }
   },
   "outputs": [
    {
     "name": "stdout",
     "output_type": "stream",
     "text": [
      "left_arr1:[3, 2, 4, 7]\n",
      "right_arr1:[8, 9, 10, 1, 5]\n",
      "left_arr1:[3, 2]\n",
      "right_arr1:[4, 7]\n",
      "left_arr1:[3]\n",
      "right_arr1:[2]\n",
      "while 1 -> i: 0, j: 0, k: 0\n",
      "left_arr2: [3]\n",
      "right_arr2: [2]\n",
      "array2: [2, 2]\n",
      "while 2 -> i: 0, j: 1, k: 1\n",
      "array3: [2, 3]\n",
      "left_arr1:[4]\n",
      "right_arr1:[7]\n",
      "while 1 -> i: 0, j: 0, k: 0\n",
      "left_arr2: [4]\n",
      "right_arr2: [7]\n",
      "array1: [4, 7]\n",
      "while 3 -> i: 1, j: 0, k: 1\n",
      "array4: [4, 7]\n",
      "while 1 -> i: 0, j: 0, k: 0\n",
      "left_arr2: [2, 3]\n",
      "right_arr2: [4, 7]\n",
      "array1: [2, 2, 4, 7]\n",
      "while 1 -> i: 1, j: 0, k: 1\n",
      "left_arr2: [2, 3]\n",
      "right_arr2: [4, 7]\n",
      "array1: [2, 3, 4, 7]\n",
      "while 3 -> i: 2, j: 0, k: 2\n",
      "array4: [2, 3, 4, 7]\n",
      "while 3 -> i: 2, j: 1, k: 3\n",
      "array4: [2, 3, 4, 7]\n",
      "left_arr1:[8, 9]\n",
      "right_arr1:[10, 1, 5]\n",
      "left_arr1:[8]\n",
      "right_arr1:[9]\n",
      "while 1 -> i: 0, j: 0, k: 0\n",
      "left_arr2: [8]\n",
      "right_arr2: [9]\n",
      "array1: [8, 9]\n",
      "while 3 -> i: 1, j: 0, k: 1\n",
      "array4: [8, 9]\n",
      "left_arr1:[10]\n",
      "right_arr1:[1, 5]\n",
      "left_arr1:[1]\n",
      "right_arr1:[5]\n",
      "while 1 -> i: 0, j: 0, k: 0\n",
      "left_arr2: [1]\n",
      "right_arr2: [5]\n",
      "array1: [1, 5]\n",
      "while 3 -> i: 1, j: 0, k: 1\n",
      "array4: [1, 5]\n",
      "while 1 -> i: 0, j: 0, k: 0\n",
      "left_arr2: [10]\n",
      "right_arr2: [1, 5]\n",
      "array2: [1, 1, 5]\n",
      "while 1 -> i: 0, j: 1, k: 1\n",
      "left_arr2: [10]\n",
      "right_arr2: [1, 5]\n",
      "array2: [1, 5, 5]\n",
      "while 2 -> i: 0, j: 2, k: 2\n",
      "array3: [1, 5, 10]\n",
      "while 1 -> i: 0, j: 0, k: 0\n",
      "left_arr2: [8, 9]\n",
      "right_arr2: [1, 5, 10]\n",
      "array2: [1, 9, 10, 1, 5]\n",
      "while 1 -> i: 0, j: 1, k: 1\n",
      "left_arr2: [8, 9]\n",
      "right_arr2: [1, 5, 10]\n",
      "array2: [1, 5, 10, 1, 5]\n",
      "while 1 -> i: 0, j: 2, k: 2\n",
      "left_arr2: [8, 9]\n",
      "right_arr2: [1, 5, 10]\n",
      "array1: [1, 5, 8, 1, 5]\n",
      "while 1 -> i: 1, j: 2, k: 3\n",
      "left_arr2: [8, 9]\n",
      "right_arr2: [1, 5, 10]\n",
      "array1: [1, 5, 8, 9, 5]\n",
      "while 3 -> i: 2, j: 2, k: 4\n",
      "array4: [1, 5, 8, 9, 10]\n",
      "while 1 -> i: 0, j: 0, k: 0\n",
      "left_arr2: [2, 3, 4, 7]\n",
      "right_arr2: [1, 5, 8, 9, 10]\n",
      "array2: [1, 2, 4, 7, 8, 9, 10, 1, 5]\n",
      "while 1 -> i: 0, j: 1, k: 1\n",
      "left_arr2: [2, 3, 4, 7]\n",
      "right_arr2: [1, 5, 8, 9, 10]\n",
      "array1: [1, 2, 4, 7, 8, 9, 10, 1, 5]\n",
      "while 1 -> i: 1, j: 1, k: 2\n",
      "left_arr2: [2, 3, 4, 7]\n",
      "right_arr2: [1, 5, 8, 9, 10]\n",
      "array1: [1, 2, 3, 7, 8, 9, 10, 1, 5]\n",
      "while 1 -> i: 2, j: 1, k: 3\n",
      "left_arr2: [2, 3, 4, 7]\n",
      "right_arr2: [1, 5, 8, 9, 10]\n",
      "array1: [1, 2, 3, 4, 8, 9, 10, 1, 5]\n",
      "while 1 -> i: 3, j: 1, k: 4\n",
      "left_arr2: [2, 3, 4, 7]\n",
      "right_arr2: [1, 5, 8, 9, 10]\n",
      "array2: [1, 2, 3, 4, 5, 9, 10, 1, 5]\n",
      "while 1 -> i: 3, j: 2, k: 5\n",
      "left_arr2: [2, 3, 4, 7]\n",
      "right_arr2: [1, 5, 8, 9, 10]\n",
      "array1: [1, 2, 3, 4, 5, 7, 10, 1, 5]\n",
      "while 3 -> i: 4, j: 2, k: 6\n",
      "array4: [1, 2, 3, 4, 5, 7, 8, 1, 5]\n",
      "while 3 -> i: 4, j: 3, k: 7\n",
      "array4: [1, 2, 3, 4, 5, 7, 8, 9, 5]\n",
      "while 3 -> i: 4, j: 4, k: 8\n",
      "array4: [1, 2, 3, 4, 5, 7, 8, 9, 10]\n"
     ]
    },
    {
     "data": {
      "text/plain": [
       "[1, 2, 3, 4, 5, 7, 8, 9, 10]"
      ]
     },
     "execution_count": 38,
     "metadata": {},
     "output_type": "execute_result"
    }
   ],
   "source": [
    "array = [3,2,4,7,8,9,10,1,5]\n",
    "\n",
    "mergeSort(array)"
   ]
  },
  {
   "cell_type": "markdown",
   "metadata": {},
   "source": [
    "## 5.2 Implementação do Bubble Sort"
   ]
  },
  {
   "cell_type": "code",
   "execution_count": 30,
   "metadata": {
    "ExecuteTime": {
     "end_time": "2021-01-16T20:02:58.610586Z",
     "start_time": "2021-01-16T20:02:58.598586Z"
    }
   },
   "outputs": [
    {
     "name": "stdout",
     "output_type": "stream",
     "text": [
      "array desordenado: [180, 182, 93, 107, 51, 140, 38, 161, 144, 14, 134, 199, 124, 115, 61, 11, 117, 26, 88, 185, 15, 75, 116, 32, 92, 46, 183, 50, 59, 165, 193, 22, 153, 104, 106, 96, 48, 81, 195, 163, 111, 136, 12, 53, 82, 142, 84, 139, 112, 166, 42, 186, 100, 45, 43, 123, 17, 29, 58, 114, 169, 154, 149, 80, 157, 120, 56, 131, 77, 64, 91, 13, 79, 133, 47, 99, 74, 150, 69, 20, 146, 191, 34, 44, 23, 160, 72, 138, 41, 102, 173, 167, 40, 63, 54, 101, 39, 172, 152, 78]\n",
      "\n",
      "\n",
      "array ordenado: [11, 12, 13, 14, 15, 17, 20, 22, 23, 26, 29, 32, 34, 38, 39, 40, 41, 42, 43, 44, 45, 46, 47, 48, 50, 51, 53, 54, 56, 58, 59, 61, 63, 64, 69, 72, 74, 75, 77, 78, 79, 80, 81, 82, 84, 88, 91, 92, 93, 96, 99, 100, 101, 102, 104, 106, 107, 111, 112, 114, 115, 116, 117, 120, 123, 124, 131, 133, 134, 136, 138, 139, 140, 142, 144, 146, 149, 150, 152, 153, 154, 157, 160, 161, 163, 165, 166, 167, 169, 172, 173, 180, 182, 183, 185, 186, 191, 193, 195, 199]\n"
     ]
    }
   ],
   "source": [
    "\n",
    "def bubbleSort(array):\n",
    "    for j in range(len(array)-1):\n",
    "        for i in range(len(array) -1 -j):\n",
    "            if array[i] > array[i+1]:\n",
    "                array[i], array[i+1] = array[i+1], array[i]\n",
    "    print(f'array ordenado: {array}')\n",
    "\n",
    "array = random.sample(range(10, 200), 100)\n",
    "print(f'array desordenado: {array}', end = '\\n\\n\\n')\n",
    "bubbleSort(array)    "
   ]
  },
  {
   "cell_type": "markdown",
   "metadata": {},
   "source": [
    "## 6. Calculadora de Aportes Mensais"
   ]
  },
  {
   "cell_type": "code",
   "execution_count": 27,
   "metadata": {
    "ExecuteTime": {
     "end_time": "2021-01-16T20:00:45.737676Z",
     "start_time": "2021-01-16T20:00:45.727727Z"
    }
   },
   "outputs": [
    {
     "data": {
      "text/plain": [
       "499.63821496570415"
      ]
     },
     "execution_count": 27,
     "metadata": {},
     "output_type": "execute_result"
    }
   ],
   "source": [
    "def aporteCalculator(idade_atual, idade_futura, valor_futuro, juros):\n",
    "    n = (idade_futura - idade_atual) * 12\n",
    "    aporte = (valor_futuro * juros) / (((1 + juros)**n - 1) * (1 + juros))\n",
    "    return aporte\n",
    "\n",
    "aporteCalculator(25, 65, 1_000_000, 0.005)"
   ]
  }
 ],
 "metadata": {
  "kernelspec": {
   "display_name": "Python 3",
   "language": "python",
   "name": "python3"
  },
  "language_info": {
   "codemirror_mode": {
    "name": "ipython",
    "version": 3
   },
   "file_extension": ".py",
   "mimetype": "text/x-python",
   "name": "python",
   "nbconvert_exporter": "python",
   "pygments_lexer": "ipython3",
   "version": "3.7.9"
  },
  "toc": {
   "base_numbering": 1,
   "nav_menu": {},
   "number_sections": false,
   "sideBar": true,
   "skip_h1_title": false,
   "title_cell": "Table of Contents",
   "title_sidebar": "Contents",
   "toc_cell": false,
   "toc_position": {
    "height": "calc(100% - 180px)",
    "left": "10px",
    "top": "150px",
    "width": "165px"
   },
   "toc_section_display": true,
   "toc_window_display": false
  },
  "varInspector": {
   "cols": {
    "lenName": 16,
    "lenType": 16,
    "lenVar": 40
   },
   "kernels_config": {
    "python": {
     "delete_cmd_postfix": "",
     "delete_cmd_prefix": "del ",
     "library": "var_list.py",
     "varRefreshCmd": "print(var_dic_list())"
    },
    "r": {
     "delete_cmd_postfix": ") ",
     "delete_cmd_prefix": "rm(",
     "library": "var_list.r",
     "varRefreshCmd": "cat(var_dic_list()) "
    }
   },
   "types_to_exclude": [
    "module",
    "function",
    "builtin_function_or_method",
    "instance",
    "_Feature"
   ],
   "window_display": false
  }
 },
 "nbformat": 4,
 "nbformat_minor": 4
}
